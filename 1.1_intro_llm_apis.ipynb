{
 "cells": [
  {
   "cell_type": "code",
   "execution_count": 6,
   "id": "a3911377-e05a-4c00-ac87-a412088c7205",
   "metadata": {},
   "outputs": [],
   "source": [
    "!pip install -q openai"
   ]
  },
  {
   "cell_type": "code",
   "execution_count": 3,
   "id": "d850fb32-d462-413f-926f-8c5beb7ab6d4",
   "metadata": {},
   "outputs": [],
   "source": [
    "import os\n",
    "\n",
    "with open('nebius_api_key', 'r') as file:\n",
    "    nebius_api_key = file.read().strip()\n",
    "\n",
    "os.environ['NEBIUS_API_KEY'] = nebius_api_key\n",
    "\n",
    "# with open('openapi_api_key', 'r') as file:\n",
    "#     openapi_api_key = file.read().strip()\n",
    "\n",
    "# os.environ['OPEN_API_KEY'] = openapi_api_key"
   ]
  },
  {
   "cell_type": "code",
   "execution_count": 7,
   "id": "1000ad3a-ba61-44d6-a5bb-e5e06ac3f67f",
   "metadata": {},
   "outputs": [],
   "source": [
    "from openai import OpenAI"
   ]
  },
  {
   "cell_type": "code",
   "execution_count": 10,
   "id": "b18b7605-186c-44fc-8105-d8374f528bfc",
   "metadata": {},
   "outputs": [],
   "source": [
    "client = OpenAI(\n",
    "    base_url=\"https://api.studio.nebius.ai/v1/\",\n",
    "    api_key=os.environ.get(\"NEBIUS_API_KEY\")\n",
    ")\n",
    "\n",
    "model = \"meta-llama/Meta-Llama-3.1-70B-Instruct\"\n",
    "\n",
    "completion = client.chat.completions.create(\n",
    "    model=model,\n",
    "    messages = [\n",
    "        {\n",
    "            \"role\":\"user\",\n",
    "            \"content\":\"\"\"\n",
    "                The following Python implementation of the QuickSort algorithm contains a bug.\n",
    "                Find the bug and correct the code:\n",
    "                    def quicksort(arr):\n",
    "                        if len(arr) <= 1:\n",
    "                            return arr\n",
    "                        pivot = arr[0]\n",
    "                        left = [x for x in arr if x < pivot]\n",
    "                        right = [x for x in arr if x >= pivot]\n",
    "                        return quicksort(left) + [pivot] + quicksort(right)\n",
    "                \"\"\"\n",
    "        }\n",
    "    ]\n",
    ")"
   ]
  },
  {
   "cell_type": "code",
   "execution_count": 12,
   "id": "43413269-a2f8-4088-8495-70414137dc08",
   "metadata": {},
   "outputs": [
    {
     "name": "stdout",
     "output_type": "stream",
     "text": [
      "### Bug in the Code\n",
      "\n",
      "The bug in the provided Python implementation of the QuickSort algorithm lies in the way the pivot element is selected. Currently, the code always selects the first element of the array as the pivot. This can lead to worst-case scenarios (e.g., when the input is already sorted or reversed), resulting in a time complexity of O(n^2), which is much worse than the expected average-case time complexity of O(n log n) for QuickSort.\n",
      "\n",
      "### Corrected Code\n",
      "\n",
      "To fix this issue, we can implement the standard \"Lomuto\" partition scheme, which chooses a random pivot or the middle element as the pivot to reduce the chance of worst-case scenarios. However, to keep the correction simple and aligned with the original implementation style, we will only adjust the pivot selection and slightly optimize the partitioning.\n",
      "\n",
      "```python\n",
      "import random\n",
      "\n",
      "def quicksort(arr):\n",
      "    \"\"\"\n",
      "    QuickSort implementation.\n",
      "    \n",
      "    :param arr: The list of elements to sort\n",
      "    :return: The sorted list\n",
      "    \"\"\"\n",
      "    if len(arr) <= 1:\n",
      "        return arr\n",
      "    pivot_index = random.randint(0, len(arr) - 1)  # Randomly select a pivot index\n",
      "    pivot = arr[pivot_index]\n",
      "    left = [x for i, x in enumerate(arr) if x < pivot and i != pivot_index]  # Use enumerate to exclude the pivot\n",
      "    middle = [x for x in arr if x == pivot]  # Separate the equals\n",
      "    right = [x for i, x in enumerate(arr) if x > pivot and i != pivot_index]\n",
      "    return quicksort(left) + middle + quicksort(right)\n",
      "\n",
      "# Example usage:\n",
      "arr = [5, 2, 9, 1, 7, 3]\n",
      "print(quicksort(arr))\n",
      "```\n",
      "\n",
      "### Explanation:\n",
      "\n",
      "1. **Random Pivot Selection**: The line `pivot_index = random.randint(0, len(arr) - 1)` introduces randomness in selecting the pivot. This makes the algorithm more robust against worst-case input arrangements.\n",
      "2. **Exclusive Partitioning**: The list comprehensions for `left`, `middle`, and `right` are adjusted to exclude the pivot when creating the `left` and `right` partitions using `enumerate` to access both the index and value of each element. This is done to ensure that the pivot is not on both sides after partitioning.\n",
      "3. **Equal Elements Handling**: The introduction of `middle` to handle elements equal to the pivot ensures that these elements are also sorted correctly, particularly when there are duplicate values.\n",
      "\n",
      "This corrected version reduces the chance of encountering the worst-case O(n^2) scenario, improving the practical performance of the QuickSort algorithm for a broader range of inputs.\n"
     ]
    }
   ],
   "source": [
    "print(completion.choices[0].message.content)"
   ]
  },
  {
   "cell_type": "code",
   "execution_count": 16,
   "id": "7f22f63c-8cf3-4964-8b5f-3569a8bc88ba",
   "metadata": {},
   "outputs": [
    {
     "data": {
      "text/plain": [
       "0.00029563"
      ]
     },
     "execution_count": 16,
     "metadata": {},
     "output_type": "execute_result"
    }
   ],
   "source": [
    "#cost $0.13/1M tokens\n",
    "#$0.5/1M o/p tokens\n",
    "(completion.usage.prompt_tokens * 0.13 + completion.usage.completion_tokens*0.5) / (10**6)"
   ]
  },
  {
   "cell_type": "code",
   "execution_count": 21,
   "id": "eddee9d5-dc71-4b65-9cb6-e5d43966ae76",
   "metadata": {},
   "outputs": [
    {
     "data": {
      "text/plain": [
       "'Selecting the top 10 most influential papers on Machine Learning (ML) and Artificial Intelligence (AI) is a challenging task, as it\\'s a subjective assessment that can vary depending on personal perspectives and the time frame considered. However, based on various sources, including academic citations, awards, and impact on the field, here\\'s a list of 10 highly influential papers on ML/AI:\\n\\n**Note:** The list is in no particular order, and the papers are categorized by topic.\\n\\n**Deep Learning**\\n\\n1. **\"ImageNet Classification with Deep Convolutional Neural Networks\"** by Alex Krizhevsky, Ilya Sutskever, and Geoffrey Hinton (2012) [1] - This paper introduced the AlexNet architecture, which won the ImageNet Large Scale Visual Recognition Challenge (ILSVRC) in 2012 and is often credited with revitalizing interest in deep learning.\\n2. **\"Long Short-Term Memory\"** by Sepp Hochreiter and Jürgen Schmidhuber (1997) [2] - This paper introduced the Long Short-Term Memory (LSTM) architecture, a type of Recurrent Neural Network (RNN) that has become widely used for sequence modeling tasks.\\n\\n**Neural Networks**\\n\\n3. **\"A Learning Algorithm for Continuously Running Fully Recurrent Neural Networks\"** by Ronald J. Williams and David Zipser (1989) [3] - This paper introduced the backpropagation through time (BPTT) algorithm, which is still widely used for training RNNs.\\n4. **\"Backpropagation Applied to Handwritten Zip Code Recognition\"** by Yann LeCun, Léon Bottou, Yoshua Bengio, and Patrick Haffner (1990) [4] - This paper applied the backpropagation algorithm to a real-world problem, demonstrating its effectiveness for neural network training.\\n\\n**Reinforcement Learning**\\n\\n5. **\"Q-Learning\"** by Watkins, C. J. C. H. (1989) [5] - This paper introduced the Q-learning algorithm, a model-free reinforcement learning method that is widely used in AI research.\\n6. **\"Playing Atari with Deep Reinforcement Learning\"** by Volodymyr Mnih et al. (2013) [6] - This paper demonstrated the effectiveness of deep reinforcement learning using the Deep Q-Network (DQN) architecture, which achieved state-of-the-art results in Atari games.\\n\\n**Natural Language Processing**\\n\\n7. **\"A Neural Probabilistic Language Model\"** by Yoshua Bengio, Réjean Ducharme, and Pascal Vincent (2003) [7] - This paper introduced the neural probabilistic language model, which is a precursor to modern neural network-based language models.\\n8. **\"Attention Is All You Need\"** by Vaswani, A. et al. (2017) [8] - This paper introduced the Transformer architecture, which uses self-attention mechanisms to achieve state-of-the-art results in machine translation and other NLP tasks.\\n\\n**Foundations**\\n\\n9. **\"A Logical Calculus of the Ideas Immanent in Nervous Activity\"** by Warren S. McCulloch and Walter Pitts (1943) [9] - This paper introduced the concept of artificial neural networks and laid the foundation for modern AI research.\\n10. **\"Computing Machinery and Intelligence\"** by Alan Turing (1950) [10] - This paper proposed the Turing Test, a measure of a machine\\'s ability to exhibit intelligent behavior equivalent to, or indistinguishable from, that of a human.\\n\\nOf course, there are many other influential papers in ML/AI, and this list is by no means exhaustive. However, these papers have had a significant impact on the development and progress of the field.\\n\\nReferences:\\n\\n[1] Krizhevsky, A., Sutskever, I., & Hinton, G. E. (2012). ImageNet classification with deep convolutional neural networks. In Advances in Neural Information Processing Systems (pp. 1097-1105).\\n\\n[2] Hochreiter, S., & Schmidhuber, J. (1997). Long short-term memory. Neural Computation, 9(8), 1735-1780.\\n\\n[3] Williams, R. J., & Zipser, D. (1989). A learning algorithm for continually running fully recurrent neural networks. Neural Computation, 1(2), 270-280.\\n\\n[4] LeCun, Y., Bottou, L., Bengio, Y., & Haffner, P. (1990). Backpropagation applied to handwritten zip code recognition. Neural Computation, 2(4), 541-551.\\n\\n[5] Watkins, C. J. C. H. (1989). Learning from delayed rewards. Ph.D. thesis, University of Cambridge.\\n\\n[6] Mnih, V., Kavukcuoglu, K., Silver, D., Rusu, A. A., Veness, J., Bellemare, M. G., ... & Hassabis, D. (2013). Playing atari with deep reinforcement learning. arXiv preprint arXiv:1312.5602.\\n\\n[7] Bengio, Y., Ducharme, R., & Vincent, P. (2003). A neural probabilistic language model. Journal of Machine Learning Research, 3, 1137-1155.\\n\\n[8] Vaswani, A., Shazeer, N., Parmar, N., Uszkoreit, J., Jones, L., Gomez, A. N., ... & Polosukhin, I. (2017). Attention is all you need. In Advances in Neural Information Processing Systems (pp. 6000-6010).\\n\\n[9] McCulloch, W. S., & Pitts, W. (1943). A logical calculus of the ideas immanent in nervous activity. Bulletin of Mathematical Biophysics, 5(4), 115-133.\\n\\n[10] Turing, A. M. (1950). Computing machinery and intelligence. Mind, 59(236), 433-460.'"
      ]
     },
     "execution_count": 21,
     "metadata": {},
     "output_type": "execute_result"
    }
   ],
   "source": [
    "client = OpenAI(\n",
    "    base_url=\"https://api.studio.nebius.ai/v1/\",\n",
    "    api_key=os.environ.get(\"NEBIUS_API_KEY\"),\n",
    ")\n",
    "model = \"meta-llama/Meta-Llama-3.1-70B-Instruct\"\n",
    "\n",
    "messages = [ {\n",
    "            \"role\": \"system\",\n",
    "            \"content\": \"You are a helpful assistant.\"\n",
    "        },\n",
    "        {\n",
    "            \"role\": \"user\",\n",
    "            \"content\": \"\"\"what are the top 10 influential papers on ML/AI\"\"\"\n",
    "        },\n",
    "]\n",
    "\n",
    "completion = client.chat.completions.create(\n",
    "    model=model,\n",
    "    messages=messages\n",
    ")\n",
    "completion.choices[0].message.content"
   ]
  },
  {
   "cell_type": "code",
   "execution_count": null,
   "id": "f65a55f5-a744-4e01-8f10-cc71b8908fde",
   "metadata": {},
   "outputs": [],
   "source": []
  }
 ],
 "metadata": {
  "kernelspec": {
   "display_name": "Python 3 (ipykernel)",
   "language": "python",
   "name": "python3"
  },
  "language_info": {
   "codemirror_mode": {
    "name": "ipython",
    "version": 3
   },
   "file_extension": ".py",
   "mimetype": "text/x-python",
   "name": "python",
   "nbconvert_exporter": "python",
   "pygments_lexer": "ipython3",
   "version": "3.10.16"
  }
 },
 "nbformat": 4,
 "nbformat_minor": 5
}
